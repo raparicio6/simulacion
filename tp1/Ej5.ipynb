{
 "cells": [
  {
   "cell_type": "code",
   "execution_count": 28,
   "metadata": {},
   "outputs": [
    {
     "name": "stdout",
     "output_type": "stream",
     "text": [
      "Limite superior: 41.64 \n",
      "Estadistico: 176.25 \n",
      "El test rechaza la hipótesis nula\n"
     ]
    }
   ],
   "source": [
    "import matplotlib.pyplot as plot\n",
    "import numpy as np\n",
    "\n",
    "#Importacion de ejercicio1\n",
    "modulo = 2**32\n",
    "multiplicador = 1013904223\n",
    "incremento = 1664525\n",
    "semilla = int((98967 + 94241 + 101004 + 78189) / 4)\n",
    "secuencia = [semilla]\n",
    "\n",
    "def GCL(valor):\n",
    "  return (valor * multiplicador + incremento) % modulo\n",
    "\n",
    "\n",
    "def generarSecuencia(secuencia, inicio, fin):\n",
    "  for i in range(inicio, fin):\n",
    "    secuencia.append(GCL(secuencia[i-1]))\n",
    "\n",
    "secuencia2 = [0.7]\n",
    "generarSecuencia(secuencia2, 1, 100000)\n",
    "\n",
    "secuencia2 = list(map(lambda n: n / modulo, secuencia2))\n",
    "\n",
    "gaps = []\n",
    "gapActual = 0\n",
    "\n",
    "for numeroActual in secuencia2:\n",
    "    if(numeroActual >= 0.2 and numeroActual <= 0.5):\n",
    "        gaps.append(gapActual)\n",
    "        gapActual = 0\n",
    "    else:\n",
    "        gapActual = gapActual + 1\n",
    "\n",
    "maxGap = np.amax(gaps)\n",
    "frecuencias = np.full(maxGap+1, 0)\n",
    "\n",
    "for gap in gaps:\n",
    "    frecuencias[gap] = frecuencias[gap] + 1\n",
    "      \n",
    "p = 0.3\n",
    "probabilidades = []\n",
    "for i in range(maxGap+1):\n",
    "    probabilidades.append(pow(0.7, i) * p)\n",
    "\n",
    "#Aplicacion de test estadistico\n",
    "from scipy.stats import chi2\n",
    "\n",
    "D2 = 0\n",
    "for i in range(len(frecuencias)):\n",
    "    frecuenciaObservada = frecuencias[i]\n",
    "    frecuenciaEsperada = probabilidades[i]*len(gaps)\n",
    "    acumulador = (frecuenciaObservada-frecuenciaEsperada)**2\n",
    "    acumulador = acumulador / frecuenciaEsperada\n",
    "    D2 = D2 + acumulador    \n",
    "\n",
    "limiteSuperior = chi2.ppf(0.99, df=23)\n",
    "print(\"Limite superior: {:.2f} \".format(limiteSuperior))\n",
    "print(\"Estadistico: {:.2f} \".format(D2))\n",
    "if D2 <= limiteSuperior:\n",
    " print(\"El test acepta la hipotesis nula.\")\n",
    "else:\n",
    " print(\"El test rechaza la hipótesis nula\")"
   ]
  }
 ],
 "metadata": {
  "kernelspec": {
   "display_name": "Python 3",
   "language": "python",
   "name": "python3"
  },
  "language_info": {
   "codemirror_mode": {
    "name": "ipython",
    "version": 3
   },
   "file_extension": ".py",
   "mimetype": "text/x-python",
   "name": "python",
   "nbconvert_exporter": "python",
   "pygments_lexer": "ipython3",
   "version": "3.7.6"
  }
 },
 "nbformat": 4,
 "nbformat_minor": 4
}
