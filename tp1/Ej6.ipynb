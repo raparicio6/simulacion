{
 "cells": [
  {
   "cell_type": "code",
   "execution_count": 11,
   "metadata": {},
   "outputs": [
    {
     "name": "stdout",
     "output_type": "stream",
     "text": [
      "Estadistico: 2264.14 \n",
      "El test rechaza la hipótesis nula\n"
     ]
    }
   ],
   "source": [
    "#Importacion de ejercicio2 \n",
    "import matplotlib.pyplot as plot\n",
    "\n",
    "def asignar_resultados(x):\n",
    "    resultado = 0\n",
    "    resultado_obtenido = False\n",
    "    i=0\n",
    "    while(resultado_obtenido==False):\n",
    "        if(x<=cota_superior[i]):\n",
    "            resultado_obtenido = True\n",
    "            resultado = i+2\n",
    "        i = i+1\n",
    "    return (resultado)\n",
    "\n",
    "def GCL(valor):\n",
    "  return (valor * multiplicador + incremento) % modulo\n",
    "\n",
    "def generarSecuencia(secuencia, inicio, fin):\n",
    "  for i in range(inicio, fin):\n",
    "    secuencia.append(GCL(secuencia[i-1]))\n",
    "\n",
    "\n",
    "modulo = 2**32\n",
    "multiplicador = 1013904223\n",
    "incremento = 1664525\n",
    "semilla = int((98967 + 94241 + 101004 + 78189) / 4)\n",
    "secuencia = [semilla]\n",
    "\n",
    "secuencia2 = [0.7]\n",
    "generarSecuencia(secuencia2, 1, 10000)\n",
    "\n",
    "secuencia2 = list(map(lambda n: n / modulo, secuencia2))\n",
    "probabilidades = [1/36,2/36,3/36,4/36,5/36,6/36,5/36,4/36,3/36,2/36,1/36]\n",
    "\n",
    "cota_superior = [0 for x in range(11)]\n",
    "for z in range(11):\n",
    "    for i in range(z+1):\n",
    "        cota_superior[z]+= probabilidades[i]\n",
    "\n",
    "frecuencias = [0,0,0,0,0,0,0,0,0,0,0,0,0]\n",
    "\n",
    "#En vez de guardar los resultados, se crea un array con cantidad de ocurrencias\n",
    "for i in secuencia2:\n",
    "    nuevoNumero = asignar_resultados((i))\n",
    "    \n",
    "    frecuencias[nuevoNumero] = frecuencias[nuevoNumero] + 1\n",
    "\n",
    "frecuencias.pop(0)\n",
    "frecuencias.pop(0)\n",
    "\n",
    "\n",
    "#Aplicacion de test estadistico\n",
    "from scipy.stats import chi2\n",
    "\n",
    "lanzamientos = sum(frecuencias)\n",
    "D2 = sum([(fO - 1/10*lanzamientos)**2 for fO in frecuencias])/(1/10*lanzamientos)\n",
    "limiteSuperior = chi2.ppf(0.99, df=1)\n",
    "print(\"Estadistico: {:.2f} \".format(D2))\n",
    "if D2 <= limiteSuperior:\n",
    " print(\"El test acepta la hipotesis nula.\")\n",
    "else:\n",
    " print(\"El test rechaza la hipótesis nula\")"
   ]
  }
 ],
 "metadata": {
  "kernelspec": {
   "display_name": "Python 3",
   "language": "python",
   "name": "python3"
  },
  "language_info": {
   "codemirror_mode": {
    "name": "ipython",
    "version": 3
   },
   "file_extension": ".py",
   "mimetype": "text/x-python",
   "name": "python",
   "nbconvert_exporter": "python",
   "pygments_lexer": "ipython3",
   "version": "3.7.6"
  }
 },
 "nbformat": 4,
 "nbformat_minor": 4
}
